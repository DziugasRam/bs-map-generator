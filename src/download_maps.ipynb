{
 "cells": [
  {
   "cell_type": "code",
   "execution_count": 1,
   "metadata": {},
   "outputs": [],
   "source": [
    "import json\n",
    "import os\n",
    "import requests\n",
    "import glob\n",
    "from io import BytesIO\n",
    "import urllib\n",
    "from zipfile import ZipFile\n",
    "from tqdm import tqdm\n",
    "from datetime import datetime\n",
    "\n",
    "\n",
    "date_time_str = \"2021-01-01T22:50:41\"\n",
    "date_time_format = \"%Y-%m-%dT%H:%M:%S\"\n",
    "date_time = datetime.strptime(date_time_str, date_time_format)\n",
    "\n",
    "maps_dir = \"../data/maps\"\n",
    "os.makedirs(maps_dir, exist_ok=True)\n",
    "\n",
    "def download_map(hash):\n",
    "    map_dir = f\"{maps_dir}/{hash}\"\n",
    "\n",
    "    if os.path.exists(map_dir):\n",
    "        return\n",
    "    \n",
    "    beatsaver_url = f\"https://beatsaver.com/api/maps/hash/{hash}\"\n",
    "    r = requests.get(url = beatsaver_url)\n",
    "    if not r.ok:\n",
    "        return\n",
    "    content = r.content.decode('utf-8', errors='replace')\n",
    "    beatsaver_data = json.loads(content)\n",
    "    if datetime.strptime(beatsaver_data[\"uploaded\"][:len(date_time_str)], date_time_format) < date_time:\n",
    "        return\n",
    "    \n",
    "    downloadURL = \"\"\n",
    "    \n",
    "    for version in beatsaver_data[\"versions\"]:\n",
    "        if version[\"hash\"] == hash:\n",
    "            downloadURL = version[\"downloadURL\"]\n",
    "    \n",
    "    if downloadURL == \"\":\n",
    "        downloadURL = f\"https://r2cdn.beatsaver.com/{hash}.zip\"\n",
    "        # raise Exception()\n",
    "    \n",
    "    req = urllib.request.Request(downloadURL, headers={'User-Agent': \"Mozilla/5.0 (Windows NT 10.0; Win64; x64) AppleWebKit/537.36 (KHTML, like Gecko) Chrome/105.0.0.0 Safari/537.36\"})\n",
    "    with urllib.request.urlopen(req) as zipresp:\n",
    "        with ZipFile(BytesIO(zipresp.read())) as zfile:\n",
    "            zfile.extractall(map_dir)"
   ]
  },
  {
   "cell_type": "code",
   "execution_count": 2,
   "metadata": {},
   "outputs": [],
   "source": [
    "latest_ranked_url = \"https://api.beatleader.xyz/leaderboards?page=1&count=10&type=ranked&sortBy=timestamp&order=desc&allTypes=0&mapRequirements=44&allRequirements=2\"\n",
    "most_plays_unranked = \"https://api.beatleader.xyz/leaderboards?page=1&count=2000&type=all&sortBy=playcount&order=desc&allTypes=0&mapRequirements=44&allRequirements=2\"\n",
    "leaderboards = requests.get(most_plays_unranked).json()"
   ]
  },
  {
   "cell_type": "code",
   "execution_count": 3,
   "metadata": {},
   "outputs": [
    {
     "name": "stderr",
     "output_type": "stream",
     "text": [
      "  5%|▍         | 94/2000 [00:30<07:52,  4.03it/s]"
     ]
    },
    {
     "name": "stdout",
     "output_type": "stream",
     "text": [
      "HTTP Error 404: Not Found\n"
     ]
    },
    {
     "name": "stderr",
     "output_type": "stream",
     "text": [
      " 14%|█▍        | 275/2000 [01:26<08:37,  3.33it/s]"
     ]
    },
    {
     "name": "stdout",
     "output_type": "stream",
     "text": [
      "HTTP Error 404: Not Found\n"
     ]
    },
    {
     "name": "stderr",
     "output_type": "stream",
     "text": [
      " 19%|█▉        | 389/2000 [02:05<09:55,  2.71it/s]"
     ]
    },
    {
     "name": "stdout",
     "output_type": "stream",
     "text": [
      "HTTP Error 404: Not Found\n"
     ]
    },
    {
     "name": "stderr",
     "output_type": "stream",
     "text": [
      " 69%|██████▉   | 1386/2000 [06:08<01:37,  6.32it/s]"
     ]
    },
    {
     "name": "stdout",
     "output_type": "stream",
     "text": [
      "HTTP Error 404: Not Found\n"
     ]
    },
    {
     "name": "stderr",
     "output_type": "stream",
     "text": [
      " 81%|████████  | 1622/2000 [06:58<01:07,  5.56it/s]"
     ]
    },
    {
     "name": "stdout",
     "output_type": "stream",
     "text": [
      "HTTP Error 404: Not Found\n"
     ]
    },
    {
     "name": "stderr",
     "output_type": "stream",
     "text": [
      " 82%|████████▏ | 1648/2000 [07:05<01:29,  3.93it/s]"
     ]
    },
    {
     "name": "stdout",
     "output_type": "stream",
     "text": [
      "HTTP Error 404: Not Found\n"
     ]
    },
    {
     "name": "stderr",
     "output_type": "stream",
     "text": [
      " 88%|████████▊ | 1762/2000 [07:25<00:52,  4.56it/s]"
     ]
    },
    {
     "name": "stdout",
     "output_type": "stream",
     "text": [
      "HTTP Error 404: Not Found\n"
     ]
    },
    {
     "name": "stderr",
     "output_type": "stream",
     "text": [
      "100%|██████████| 2000/2000 [08:08<00:00,  4.09it/s]\n"
     ]
    }
   ],
   "source": [
    "for leaderboard in tqdm(leaderboards[\"data\"]):\n",
    "    try:\n",
    "        download_map(leaderboard[\"song\"][\"hash\"].lower())\n",
    "    except Exception as e:\n",
    "        print(e)"
   ]
  }
 ],
 "metadata": {
  "kernelspec": {
   "display_name": "Python 3",
   "language": "python",
   "name": "python3"
  },
  "language_info": {
   "codemirror_mode": {
    "name": "ipython",
    "version": 3
   },
   "file_extension": ".py",
   "mimetype": "text/x-python",
   "name": "python",
   "nbconvert_exporter": "python",
   "pygments_lexer": "ipython3",
   "version": "3.8.10"
  },
  "orig_nbformat": 4
 },
 "nbformat": 4,
 "nbformat_minor": 2
}
